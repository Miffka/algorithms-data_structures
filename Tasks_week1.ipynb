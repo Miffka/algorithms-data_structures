{
 "cells": [
  {
   "cell_type": "code",
   "execution_count": 9,
   "metadata": {},
   "outputs": [
    {
     "name": "stdout",
     "output_type": "stream",
     "text": [
      "[[{()}}\n",
      "7\n"
     ]
    }
   ],
   "source": [
    "''' Задача 1 - расставить скобки в коде '''\n",
    "\n",
    "inp = input().strip()\n",
    "\n",
    "def isBalanced(string):\n",
    "    stack = []\n",
    "    for i, char in enumerate(string):\n",
    "        if char in ('(', '[', '{'):\n",
    "            stack.append((i, char))\n",
    "        elif char in (')', ']', '}'):\n",
    "            if not stack:\n",
    "                return i + 1\n",
    "            top_i, top_char = stack.pop()\n",
    "            if (top_char == '[' and char != ']' or\n",
    "                top_char == '(' and char != ')' or\n",
    "                top_char == '{' and char != '}'):\n",
    "                return i + 1\n",
    "    if not stack:\n",
    "        return 'Success'\n",
    "    else:\n",
    "        top_i, top_char = stack.pop()\n",
    "        return top_i + 1\n",
    "    \n",
    "print(isBalanced(inp))"
   ]
  },
  {
   "cell_type": "code",
   "execution_count": null,
   "metadata": {},
   "outputs": [],
   "source": []
  },
  {
   "cell_type": "code",
   "execution_count": null,
   "metadata": {},
   "outputs": [],
   "source": []
  },
  {
   "cell_type": "code",
   "execution_count": 17,
   "metadata": {},
   "outputs": [
    {
     "name": "stdout",
     "output_type": "stream",
     "text": [
      "5\n",
      "push 4\n",
      "push 5\n",
      "max\n",
      "5\n",
      "pop\n",
      "max\n",
      "4\n"
     ]
    }
   ],
   "source": [
    "''' Задача 4 - реализовать стек с поддержкой максимума '''\n",
    "\n",
    "import sys\n",
    "\n",
    "class StackWIthMax():\n",
    "    def __init__(self):\n",
    "        self.stack_values = []\n",
    "        self.stack_max_values = []\n",
    "        \n",
    "    def push(self, value):\n",
    "        self.stack_values.append(value)\n",
    "        if self.stack_max_values:\n",
    "            if self.stack_max_values[len(self.stack_max_values)-1] >= value:\n",
    "                self.stack_max_values.append(self.stack_max_values[len(self.stack_max_values)-1])\n",
    "            else:\n",
    "                self.stack_max_values.append(value)\n",
    "        else:\n",
    "            self.stack_max_values.append(value)\n",
    "        \n",
    "    def pop(self):\n",
    "        a = self.stack_values.pop()\n",
    "        m = self.stack_max_values.pop()\n",
    "        \n",
    "    def return_max(self):\n",
    "        m = self.stack_max_values.pop()\n",
    "        self.stack_max_values.append(m)\n",
    "        return m\n",
    "    \n",
    "stack = StackWIthMax()\n",
    "q = int(input())\n",
    "for line in sys.stdin:\n",
    "    line = line.strip()\n",
    "    if line.startswith(\"push\"):\n",
    "        cmd, i = line.split(\" \")\n",
    "        i = int(i)\n",
    "        stack.push(i)\n",
    "    elif line == \"pop\":\n",
    "        stack.pop()\n",
    "    elif line == \"max\":\n",
    "        print(stack.return_max())"
   ]
  },
  {
   "cell_type": "code",
   "execution_count": null,
   "metadata": {},
   "outputs": [],
   "source": []
  }
 ],
 "metadata": {
  "kernelspec": {
   "display_name": "Python 3",
   "language": "python",
   "name": "python3"
  },
  "language_info": {
   "codemirror_mode": {
    "name": "ipython",
    "version": 3
   },
   "file_extension": ".py",
   "mimetype": "text/x-python",
   "name": "python",
   "nbconvert_exporter": "python",
   "pygments_lexer": "ipython3",
   "version": "3.6.6"
  }
 },
 "nbformat": 4,
 "nbformat_minor": 2
}
