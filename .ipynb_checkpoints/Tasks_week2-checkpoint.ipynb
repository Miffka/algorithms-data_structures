{
 "cells": [
  {
   "cell_type": "code",
   "execution_count": 4,
   "metadata": {},
   "outputs": [
    {
     "name": "stdout",
     "output_type": "stream",
     "text": [
      "6\n",
      "7 6 5 4 3 2\n",
      "4\n",
      "2 5\n",
      "1 4\n",
      "0 2\n",
      "2 5\n"
     ]
    }
   ],
   "source": [
    "''' Задача 1 - преобразовать массив в min-кучу за линейное время '''\n",
    "\n",
    "def Parent(i):\n",
    "    return i // 2\n",
    "\n",
    "def Left(i):\n",
    "    return 2*i + 1\n",
    "\n",
    "def Right(i):\n",
    "    return 2*i + 2\n",
    "\n",
    "def Size(heap):\n",
    "    return len(heap)\n",
    "\n",
    "def SiftDown(i, H, swaps):\n",
    "    size = Size(H)\n",
    "    maxIndex = i\n",
    "    l = Left(i)\n",
    "    if l < size and H[l] < H[maxIndex]:\n",
    "        maxIndex = l\n",
    "    r = Right(i)\n",
    "    if r < size and H[r] < H[maxIndex]:\n",
    "        maxIndex = r\n",
    "    if i != maxIndex:\n",
    "        swaps.append(' '.join(map(str, [i, maxIndex])))\n",
    "        H[i], H[maxIndex] = H[maxIndex], H[i]\n",
    "        SiftDown(maxIndex, H, swaps)\n",
    "        \n",
    "def BuildHeap(H):\n",
    "    size = Size(H)\n",
    "    swaps = []\n",
    "    for i in range(size // 2, -1, -1):\n",
    "        SiftDown(i, H, swaps)\n",
    "    return swaps\n",
    "        \n",
    "\n",
    "n = int(input())\n",
    "heap = list(map(int, input().strip().split()))\n",
    "\n",
    "swaps = BuildHeap(heap)\n",
    "print(len(swaps))\n",
    "print('\\n'.join(swaps))"
   ]
  },
  {
   "cell_type": "code",
   "execution_count": null,
   "metadata": {},
   "outputs": [],
   "source": []
  }
 ],
 "metadata": {
  "kernelspec": {
   "display_name": "Python 3",
   "language": "python",
   "name": "python3"
  },
  "language_info": {
   "codemirror_mode": {
    "name": "ipython",
    "version": 3
   },
   "file_extension": ".py",
   "mimetype": "text/x-python",
   "name": "python",
   "nbconvert_exporter": "python",
   "pygments_lexer": "ipython3",
   "version": "3.6.6"
  }
 },
 "nbformat": 4,
 "nbformat_minor": 2
}
