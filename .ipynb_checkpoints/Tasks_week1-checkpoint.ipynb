{
 "cells": [
  {
   "cell_type": "code",
   "execution_count": 9,
   "metadata": {},
   "outputs": [
    {
     "name": "stdout",
     "output_type": "stream",
     "text": [
      "[[{()}}\n",
      "7\n"
     ]
    }
   ],
   "source": [
    "''' Задача 1 - расставить скобки в коде '''\n",
    "\n",
    "inp = input().strip()\n",
    "\n",
    "def isBalanced(string):\n",
    "    stack = []\n",
    "    for i, char in enumerate(string):\n",
    "        if char in ('(', '[', '{'):\n",
    "            stack.append((i, char))\n",
    "        elif char in (')', ']', '}'):\n",
    "            if not stack:\n",
    "                return i + 1\n",
    "            top_i, top_char = stack.pop()\n",
    "            if (top_char == '[' and char != ']' or\n",
    "                top_char == '(' and char != ')' or\n",
    "                top_char == '{' and char != '}'):\n",
    "                return i + 1\n",
    "    if not stack:\n",
    "        return 'Success'\n",
    "    else:\n",
    "        top_i, top_char = stack.pop()\n",
    "        return top_i + 1\n",
    "    \n",
    "print(isBalanced(inp))"
   ]
  },
  {
   "cell_type": "code",
   "execution_count": null,
   "metadata": {},
   "outputs": [],
   "source": []
  },
  {
   "cell_type": "code",
   "execution_count": null,
   "metadata": {},
   "outputs": [],
   "source": []
  },
  {
   "cell_type": "code",
   "execution_count": 17,
   "metadata": {},
   "outputs": [
    {
     "name": "stdout",
     "output_type": "stream",
     "text": [
      "5\n",
      "push 4\n",
      "push 5\n",
      "max\n",
      "5\n",
      "pop\n",
      "max\n",
      "4\n"
     ]
    }
   ],
   "source": [
    "''' Задача 4 - реализовать стек с поддержкой максимума '''\n",
    "\n",
    "import sys\n",
    "\n",
    "class StackWIthMax():\n",
    "    def __init__(self):\n",
    "        self.stack_values = []\n",
    "        self.stack_max_values = []\n",
    "        \n",
    "    def push(self, value):\n",
    "        self.stack_values.append(value)\n",
    "        if self.stack_max_values:\n",
    "            if self.stack_max_values[len(self.stack_max_values)-1] >= value:\n",
    "                self.stack_max_values.append(self.stack_max_values[len(self.stack_max_values)-1])\n",
    "            else:\n",
    "                self.stack_max_values.append(value)\n",
    "        else:\n",
    "            self.stack_max_values.append(value)\n",
    "        \n",
    "    def pop(self):\n",
    "        a = self.stack_values.pop()\n",
    "        m = self.stack_max_values.pop()\n",
    "        \n",
    "    def return_max(self):\n",
    "        m = self.stack_max_values.pop()\n",
    "        self.stack_max_values.append(m)\n",
    "        return m\n",
    "    \n",
    "stack = StackWIthMax()\n",
    "q = int(input())\n",
    "for line in sys.stdin:\n",
    "    line = line.strip()\n",
    "    if line.startswith(\"push\"):\n",
    "        cmd, i = line.split(\" \")\n",
    "        i = int(i)\n",
    "        stack.push(i)\n",
    "    elif line == \"pop\":\n",
    "        stack.pop()\n",
    "    elif line == \"max\":\n",
    "        print(stack.return_max())"
   ]
  },
  {
   "cell_type": "code",
   "execution_count": 16,
   "metadata": {},
   "outputs": [
    {
     "name": "stdout",
     "output_type": "stream",
     "text": [
      "3\n",
      "2 3 9\n",
      "3\n",
      "9 "
     ]
    }
   ],
   "source": [
    "''' Задача 5 - выводить максимум в скользящем окне '''\n",
    "\n",
    "class BiStackMaxQueue():\n",
    "    \n",
    "    def __init__(self, m):\n",
    "        self.input = []\n",
    "        self.max_input = []\n",
    "        self.output = []\n",
    "        self.max_output = []\n",
    "        self.m = m\n",
    "        \n",
    "    def push(self, k):\n",
    "        self.input.append(k)\n",
    "        if not self.max_input or k > self.max_input[-1]:\n",
    "            self.max_input.append(k)\n",
    "        else:\n",
    "            self.max_input.append(self.max_input[-1])\n",
    "        if len(self.input) == self.m:\n",
    "            self.transfer()\n",
    "    \n",
    "    def transfer(self):\n",
    "        for i in range(len(self.input)):\n",
    "            curr_i = self.input.pop()\n",
    "            curr_m = self.max_input.pop()\n",
    "            self.output.append(curr_i)\n",
    "            if not self.max_output or curr_i > self.max_output[-1]:\n",
    "                self.max_output.append(curr_i)\n",
    "            else:\n",
    "                self.max_output.append(self.max_output[-1])\n",
    "                \n",
    "    def pop_max(self):\n",
    "        if self.max_output:\n",
    "            curr_max_out = self.max_output.pop()\n",
    "            curr_last_i = self.output.pop()\n",
    "            if self.max_input and self.max_input[-1] > curr_max_out:\n",
    "                return self.max_input[-1]\n",
    "            else:\n",
    "                return curr_max_out\n",
    "            \n",
    "        else:\n",
    "            print(\"Error - max_output is empty\")\n",
    "            \n",
    "\n",
    "\n",
    "n = int(input())\n",
    "arr = list(map(int, input().strip().split()))\n",
    "m = int(input())\n",
    "\n",
    "class_element = BiStackMaxQueue(m)\n",
    "for i, el in enumerate(arr):\n",
    "    class_element.push(el)\n",
    "    if i + 1 >= m:\n",
    "        print(class_element.pop_max(), end=' ')"
   ]
  },
  {
   "cell_type": "markdown",
   "metadata": {},
   "source": []
  }
 ],
 "metadata": {
  "kernelspec": {
   "display_name": "Python 3",
   "language": "python",
   "name": "python3"
  },
  "language_info": {
   "codemirror_mode": {
    "name": "ipython",
    "version": 3
   },
   "file_extension": ".py",
   "mimetype": "text/x-python",
   "name": "python",
   "nbconvert_exporter": "python",
   "pygments_lexer": "ipython3",
   "version": "3.6.6"
  }
 },
 "nbformat": 4,
 "nbformat_minor": 2
}
